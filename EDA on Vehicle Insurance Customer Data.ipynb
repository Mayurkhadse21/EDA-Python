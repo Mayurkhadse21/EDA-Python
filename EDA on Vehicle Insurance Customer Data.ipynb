{
 "cells": [
  {
   "cell_type": "code",
   "execution_count": 2,
   "id": "b2c7c1bf",
   "metadata": {},
   "outputs": [
    {
     "name": "stdout",
     "output_type": "stream",
     "text": [
      "     0       1     2    3     4    5          6    7\n",
      "0  1.0    Male  44.0  1.0  28.0  0.0  > 2 Years  Yes\n",
      "1  2.0    Male  76.0  1.0   3.0  0.0   1-2 Year   No\n",
      "2  3.0    Male  47.0  1.0  28.0  0.0  > 2 Years  Yes\n",
      "3  4.0    Male  21.0  1.0  11.0  1.0   < 1 Year   No\n",
      "4  5.0  Female  29.0  1.0  41.0  1.0   < 1 Year   No\n",
      "     0        1      2      3    4\n",
      "0  1.0  40454.0   26.0  217.0  1.0\n",
      "1  2.0  33536.0   26.0  183.0  0.0\n",
      "2  3.0  38294.0   26.0   27.0  1.0\n",
      "3  4.0  28619.0  152.0  203.0  0.0\n",
      "4  5.0  27496.0  152.0   39.0  0.0\n"
     ]
    }
   ],
   "source": [
    "# Reading data \n",
    "\n",
    "import pandas as pd\n",
    "\n",
    "first_table = pd.read_csv('.\\pandas\\customer_details.csv')\n",
    "\n",
    "import pandas as pd\n",
    "\n",
    "second_table = pd.read_csv('.\\pandas\\customer_policy_details.csv')\n",
    "\n",
    "print(first_table.head())\n",
    "print(second_table.head())"
   ]
  },
  {
   "cell_type": "code",
   "execution_count": 3,
   "id": "4b6fb25b",
   "metadata": {},
   "outputs": [],
   "source": [
    "# Giving column names to first table\n",
    "\n",
    "first_table_labels = {'0':'customer_id','1':'Gender','2':'age','3':'driving licence present','4':'region code','5':'previously insured','6':'vehicle age','7':'vehicle damage'}"
   ]
  },
  {
   "cell_type": "code",
   "execution_count": 7,
   "id": "ffbb5bb0",
   "metadata": {},
   "outputs": [
    {
     "name": "stdout",
     "output_type": "stream",
     "text": [
      "number of cells of0              1.0\n",
      "1              2.0\n",
      "2              3.0\n",
      "3              4.0\n",
      "4              5.0\n",
      "            ...   \n",
      "381104    381105.0\n",
      "381105    381106.0\n",
      "381106    381107.0\n",
      "381107    381108.0\n",
      "381108    381109.0\n",
      "Name: 0, Length: 380723, dtype: float64with null values=0\n",
      "number of cells of0           Male\n",
      "1           Male\n",
      "2           Male\n",
      "3           Male\n",
      "4         Female\n",
      "           ...  \n",
      "381104      Male\n",
      "381105      Male\n",
      "381106      Male\n",
      "381107    Female\n",
      "381108      Male\n",
      "Name: 1, Length: 380723, dtype: objectwith null values=368\n",
      "number of cells of0         44.0\n",
      "1         76.0\n",
      "2         47.0\n",
      "3         21.0\n",
      "4         29.0\n",
      "          ... \n",
      "381104    74.0\n",
      "381105    30.0\n",
      "381106    21.0\n",
      "381107    68.0\n",
      "381108    46.0\n",
      "Name: 2, Length: 380723, dtype: float64with null values=366\n",
      "number of cells of0         1.0\n",
      "1         1.0\n",
      "2         1.0\n",
      "3         1.0\n",
      "4         1.0\n",
      "         ... \n",
      "381104    1.0\n",
      "381105    1.0\n",
      "381106    1.0\n",
      "381107    1.0\n",
      "381108    1.0\n",
      "Name: 3, Length: 380723, dtype: float64with null values=392\n",
      "number of cells of0         28.0\n",
      "1          3.0\n",
      "2         28.0\n",
      "3         11.0\n",
      "4         41.0\n",
      "          ... \n",
      "381104    26.0\n",
      "381105    37.0\n",
      "381106    30.0\n",
      "381107    14.0\n",
      "381108    29.0\n",
      "Name: 4, Length: 380723, dtype: float64with null values=391\n",
      "number of cells of0         0.0\n",
      "1         0.0\n",
      "2         0.0\n",
      "3         1.0\n",
      "4         1.0\n",
      "         ... \n",
      "381104    1.0\n",
      "381105    1.0\n",
      "381106    1.0\n",
      "381107    0.0\n",
      "381108    0.0\n",
      "Name: 5, Length: 380723, dtype: float64with null values=381\n",
      "number of cells of0         > 2 Years\n",
      "1          1-2 Year\n",
      "2         > 2 Years\n",
      "3          < 1 Year\n",
      "4          < 1 Year\n",
      "            ...    \n",
      "381104     1-2 Year\n",
      "381105     < 1 Year\n",
      "381106     < 1 Year\n",
      "381107    > 2 Years\n",
      "381108     1-2 Year\n",
      "Name: 6, Length: 380723, dtype: objectwith null values=381\n",
      "number of cells of0         Yes\n",
      "1          No\n",
      "2         Yes\n",
      "3          No\n",
      "4          No\n",
      "         ... \n",
      "381104     No\n",
      "381105     No\n",
      "381106     No\n",
      "381107    Yes\n",
      "381108     No\n",
      "Name: 7, Length: 380723, dtype: objectwith null values=406\n",
      "<class 'pandas.core.frame.DataFrame'>\n",
      "Int64Index: 380723 entries, 0 to 381108\n",
      "Data columns (total 8 columns):\n",
      " #   Column  Non-Null Count   Dtype  \n",
      "---  ------  --------------   -----  \n",
      " 0   0       380723 non-null  float64\n",
      " 1   1       380355 non-null  object \n",
      " 2   2       380357 non-null  float64\n",
      " 3   3       380331 non-null  float64\n",
      " 4   4       380332 non-null  float64\n",
      " 5   5       380342 non-null  float64\n",
      " 6   6       380342 non-null  object \n",
      " 7   7       380317 non-null  object \n",
      "dtypes: float64(5), object(3)\n",
      "memory usage: 26.1+ MB\n"
     ]
    }
   ],
   "source": [
    "# Checking and cleaning Data Quality\n",
    "# Null Values\n",
    "\n",
    "for i in range(first_table.shape[1]):\n",
    "    print(f\"number of cells of{first_table[str(i)]}with null values={first_table[str(i)].isnull().sum()}\")\n",
    "    \n",
    "first_table.info()"
   ]
  },
  {
   "cell_type": "code",
   "execution_count": 9,
   "id": "8ae9e864",
   "metadata": {},
   "outputs": [
    {
     "name": "stdout",
     "output_type": "stream",
     "text": [
      "number of cells of customer_id with null values=0\n"
     ]
    }
   ],
   "source": [
    "# dropping rows with null customer_id of first_table\n",
    "\n",
    "first_table.dropna(subset=['0'],inplace=True)\n",
    "print(f\"number of cells of {first_table_labels[str(0)]} with null values={first_table[str(0)].isnull().sum()}\")"
   ]
  },
  {
   "cell_type": "code",
   "execution_count": 11,
   "id": "8d3961b7",
   "metadata": {},
   "outputs": [
    {
     "name": "stdout",
     "output_type": "stream",
     "text": [
      "number of cells of 0         44.0\n",
      "1         76.0\n",
      "2         47.0\n",
      "3         21.0\n",
      "4         29.0\n",
      "          ... \n",
      "381104    74.0\n",
      "381105    30.0\n",
      "381106    21.0\n",
      "381107    68.0\n",
      "381108    46.0\n",
      "Name: 2, Length: 380723, dtype: float64 with null values=0\n",
      "number of cells of 0         1.0\n",
      "1         1.0\n",
      "2         1.0\n",
      "3         1.0\n",
      "4         1.0\n",
      "         ... \n",
      "381104    1.0\n",
      "381105    1.0\n",
      "381106    1.0\n",
      "381107    1.0\n",
      "381108    1.0\n",
      "Name: 3, Length: 380723, dtype: float64 with null values=0\n",
      "number of cells of 0         28.0\n",
      "1          3.0\n",
      "2         28.0\n",
      "3         11.0\n",
      "4         41.0\n",
      "          ... \n",
      "381104    26.0\n",
      "381105    37.0\n",
      "381106    30.0\n",
      "381107    14.0\n",
      "381108    29.0\n",
      "Name: 4, Length: 380723, dtype: float64 with null values=0\n",
      "number of cells of 0         0.0\n",
      "1         0.0\n",
      "2         0.0\n",
      "3         1.0\n",
      "4         1.0\n",
      "         ... \n",
      "381104    1.0\n",
      "381105    1.0\n",
      "381106    1.0\n",
      "381107    0.0\n",
      "381108    0.0\n",
      "Name: 5, Length: 380723, dtype: float64 with null values=0\n"
     ]
    }
   ],
   "source": [
    "# Replace all null values for numeric columns by mean of first_table\n",
    "\n",
    "for i in range(2,6):\n",
    "    first_table[str(i)].fillna(first_table[str(i)].mean(),inplace=True)\n",
    "    print(f\"number of cells of {first_table[str(i)]} with null values={first_table[str(i)].isnull().sum()}\")"
   ]
  },
  {
   "cell_type": "code",
   "execution_count": 12,
   "id": "06db9eed",
   "metadata": {},
   "outputs": [
    {
     "name": "stdout",
     "output_type": "stream",
     "text": [
      "number of cells of Gender with null values=368\n",
      "number of cells of vehicle age with null values=381\n",
      "number of cells of vehicle damage with null values=406\n"
     ]
    }
   ],
   "source": [
    "# replace all values for categorical value by mode of first_table\n",
    "\n",
    "for i in [1,6,7]:\n",
    "    first_table[str(i)].fillna(first_table[str(i)].mode(),inplace=True)\n",
    "    print(f\"number of cells of {first_table_labels[str(i)]} with null values={first_table[str(i)].isnull().sum()}\")"
   ]
  },
  {
   "cell_type": "code",
   "execution_count": 14,
   "id": "edfe26d4",
   "metadata": {},
   "outputs": [
    {
     "name": "stdout",
     "output_type": "stream",
     "text": [
      "number of cells of 0              1.0\n",
      "1              2.0\n",
      "2              3.0\n",
      "3              4.0\n",
      "4              5.0\n",
      "            ...   \n",
      "381104    381105.0\n",
      "381105    381106.0\n",
      "381106    381107.0\n",
      "381107    381108.0\n",
      "381108    381109.0\n",
      "Name: 0, Length: 381109, dtype: float64 with null values= 387\n",
      "number of cells of 0         40454.0\n",
      "1         33536.0\n",
      "2         38294.0\n",
      "3         28619.0\n",
      "4         27496.0\n",
      "           ...   \n",
      "381104    30170.0\n",
      "381105    40016.0\n",
      "381106    35118.0\n",
      "381107    44617.0\n",
      "381108    41777.0\n",
      "Name: 1, Length: 381109, dtype: float64 with null values= 346\n",
      "number of cells of 0          26.0\n",
      "1          26.0\n",
      "2          26.0\n",
      "3         152.0\n",
      "4         152.0\n",
      "          ...  \n",
      "381104     26.0\n",
      "381105    152.0\n",
      "381106    160.0\n",
      "381107    124.0\n",
      "381108     26.0\n",
      "Name: 2, Length: 381109, dtype: float64 with null values= 400\n",
      "number of cells of 0         217.0\n",
      "1         183.0\n",
      "2          27.0\n",
      "3         203.0\n",
      "4          39.0\n",
      "          ...  \n",
      "381104     88.0\n",
      "381105    131.0\n",
      "381106    161.0\n",
      "381107     74.0\n",
      "381108    237.0\n",
      "Name: 3, Length: 381109, dtype: float64 with null values= 388\n",
      "number of cells of 0         1.0\n",
      "1         0.0\n",
      "2         1.0\n",
      "3         0.0\n",
      "4         0.0\n",
      "         ... \n",
      "381104    0.0\n",
      "381105    0.0\n",
      "381106    0.0\n",
      "381107    0.0\n",
      "381108    0.0\n",
      "Name: 4, Length: 381109, dtype: float64 with null values= 361\n",
      "<class 'pandas.core.frame.DataFrame'>\n",
      "RangeIndex: 381109 entries, 0 to 381108\n",
      "Data columns (total 5 columns):\n",
      " #   Column  Non-Null Count   Dtype  \n",
      "---  ------  --------------   -----  \n",
      " 0   0       380722 non-null  float64\n",
      " 1   1       380763 non-null  float64\n",
      " 2   2       380709 non-null  float64\n",
      " 3   3       380721 non-null  float64\n",
      " 4   4       380748 non-null  float64\n",
      "dtypes: float64(5)\n",
      "memory usage: 14.5 MB\n"
     ]
    }
   ],
   "source": [
    "# Giving column names to second_table\n",
    "\n",
    "second_table_labels={'0':'customer_id','1':'annual_premium_INR','2':'sales_channel_code','3':'vintage','4':'response'}\n",
    "\n",
    "# counting null values of each column of second_table\n",
    "for i in range(second_table.shape[1]):\n",
    "    print(f\"number of cells of {second_table[str(i)]} with null values= {second_table[str(i)].isnull().sum()}\")\n",
    "    \n",
    "second_table.info()"
   ]
  },
  {
   "cell_type": "code",
   "execution_count": 15,
   "id": "4767aa1c",
   "metadata": {},
   "outputs": [
    {
     "name": "stdout",
     "output_type": "stream",
     "text": [
      "number of cells of customer_id with null values=0\n"
     ]
    }
   ],
   "source": [
    "# dropping rows with null customer_id of second_table\n",
    "\n",
    "second_table.dropna(subset=['0'],inplace=True)\n",
    "print(f\"number of cells of {second_table_labels[str(0)]} with null values={second_table[str(0)].isnull().sum()}\")"
   ]
  },
  {
   "cell_type": "code",
   "execution_count": 16,
   "id": "cf95d003",
   "metadata": {},
   "outputs": [
    {
     "name": "stdout",
     "output_type": "stream",
     "text": [
      "number of cells of 0         40454.0\n",
      "1         33536.0\n",
      "2         38294.0\n",
      "3         28619.0\n",
      "4         27496.0\n",
      "           ...   \n",
      "381104    30170.0\n",
      "381105    40016.0\n",
      "381106    35118.0\n",
      "381107    44617.0\n",
      "381108    41777.0\n",
      "Name: 1, Length: 380722, dtype: float64 with null values=0\n",
      "number of cells of 0          26.0\n",
      "1          26.0\n",
      "2          26.0\n",
      "3         152.0\n",
      "4         152.0\n",
      "          ...  \n",
      "381104     26.0\n",
      "381105    152.0\n",
      "381106    160.0\n",
      "381107    124.0\n",
      "381108     26.0\n",
      "Name: 2, Length: 380722, dtype: float64 with null values=0\n",
      "number of cells of 0         217.0\n",
      "1         183.0\n",
      "2          27.0\n",
      "3         203.0\n",
      "4          39.0\n",
      "          ...  \n",
      "381104     88.0\n",
      "381105    131.0\n",
      "381106    161.0\n",
      "381107     74.0\n",
      "381108    237.0\n",
      "Name: 3, Length: 380722, dtype: float64 with null values=0\n",
      "number of cells of 0         1.0\n",
      "1         0.0\n",
      "2         1.0\n",
      "3         0.0\n",
      "4         0.0\n",
      "         ... \n",
      "381104    0.0\n",
      "381105    0.0\n",
      "381106    0.0\n",
      "381107    0.0\n",
      "381108    0.0\n",
      "Name: 4, Length: 380722, dtype: float64 with null values=0\n"
     ]
    }
   ],
   "source": [
    "# Replacing all null values for numeric by mean of second_table\n",
    "\n",
    "for  i in range(1,5):\n",
    "    second_table[str(i)].fillna(second_table[str(i)].mean(),inplace=True)\n",
    "    print(f\"number of cells of {second_table[str(i)]} with null values={second_table[str(i)].isnull().sum()}\")"
   ]
  },
  {
   "cell_type": "code",
   "execution_count": 19,
   "id": "604bbf84",
   "metadata": {},
   "outputs": [],
   "source": [
    "# Outliers\n",
    "# first_table\n",
    "\n",
    "first_table_limits={}\n",
    "for i in range(2,6):\n",
    "    computations=first_table[str(i)].describe(percentiles=[.25,.75])\n",
    "    mean = computations.values[1]\n",
    "    Q1 = computations.values[4]\n",
    "    Q3 = computations.values[6]\n",
    "    IQR = Q3 - Q1\n",
    "    lower_limit=Q1-1.5*IQR\n",
    "    higher_limit=Q3+1.5*IQR\n",
    "    first_table_limits[str(i)] = (lower_limit,higher_limit)\n",
    "    first_table_limits"
   ]
  },
  {
   "cell_type": "code",
   "execution_count": 20,
   "id": "5370f082",
   "metadata": {},
   "outputs": [
    {
     "data": {
      "text/plain": [
       "{'2': 0, '3': 0, '4': 0, '5': 0}"
      ]
     },
     "execution_count": 20,
     "metadata": {},
     "output_type": "execute_result"
    }
   ],
   "source": [
    "# generating a summary of count of all outliers column wise of first_table(only for numeric columns)\n",
    "\n",
    "first_table_outliers={'2':0,'3':0,'4':0,'5':0}\n",
    "\n",
    "for j in first_table.index:\n",
    "    for i in range(2,6):\n",
    "        if(first_table_limits[str(i)][0]!=first_table_limits[str(i)][1]) and (first_table.loc[j,str(i)]>first_table_limits[str(i)][1]<first_table_limits[str(i)][0]):\n",
    "            first_table_outliers[str(i)]+=1\n",
    "first_table_outliers"
   ]
  },
  {
   "cell_type": "code",
   "execution_count": 21,
   "id": "cc77ee3f",
   "metadata": {},
   "outputs": [
    {
     "data": {
      "text/plain": [
       "{'2': 0, '3': 0, '4': 0, '5': 0}"
      ]
     },
     "execution_count": 21,
     "metadata": {},
     "output_type": "execute_result"
    }
   ],
   "source": [
    "# replacing all outliers for numeric columns by mean for first_table\n",
    "\n",
    "for j in first_table.index:\n",
    "    for i in range(2,6):\n",
    "        if first_table.loc[j,str(i)]<first_table_limits[str(i)][0]:\n",
    "            first_table.loc[j,str(i)]=first_table[str(i)].mean()\n",
    "first_table_outliers"
   ]
  },
  {
   "cell_type": "code",
   "execution_count": 22,
   "id": "f1f39118",
   "metadata": {},
   "outputs": [
    {
     "data": {
      "text/plain": [
       "{'1': (1952.375, 61855.375),\n",
       " '2': (-155.5, 336.5),\n",
       " '3': (-135.5, 444.5),\n",
       " '4': (0.0, 0.0)}"
      ]
     },
     "execution_count": 22,
     "metadata": {},
     "output_type": "execute_result"
    }
   ],
   "source": [
    "# second_table\n",
    "\n",
    "second_table_limits={}\n",
    "\n",
    "for i in range(1,5):\n",
    "    computations=second_table[str(i)].describe(percentiles=[.25,.75])\n",
    "    mean=computations.values[1]\n",
    "    Q1=computations.values[4]\n",
    "    Q3=computations.values[6]\n",
    "    IQR=Q3-Q1\n",
    "    lower_limit=Q1-1.5*IQR\n",
    "    higher_limit=Q3+1.5*IQR\n",
    "    second_table_limits[str(i)]=(lower_limit,higher_limit)\n",
    "second_table_limits"
   ]
  },
  {
   "cell_type": "code",
   "execution_count": 23,
   "id": "0a0a743f",
   "metadata": {},
   "outputs": [
    {
     "data": {
      "text/plain": [
       "{'1': 10332, '2': 0, '3': 0, '4': 0}"
      ]
     },
     "execution_count": 23,
     "metadata": {},
     "output_type": "execute_result"
    }
   ],
   "source": [
    "# generating a summary of count of all outliers column wise of second_table(only for numeric columns)\n",
    "\n",
    "second_table_outliers={'1':0,'2':0,'3':0,'4':0}\n",
    "\n",
    "for j in second_table.index:\n",
    "    for i in range(1,5):\n",
    "        if(second_table_limits[str(i)][0]!=second_table_limits[str(i)][1]) and (second_table.loc[j,str(i)]>second_table_limits[str(i)][1] or second_table.loc[j,str(i)]<second_table_limits[str(i)][0]):\n",
    "            second_table_outliers[str(i)]+=1\n",
    "second_table_outliers"
   ]
  },
  {
   "cell_type": "code",
   "execution_count": 24,
   "id": "50ab4871",
   "metadata": {},
   "outputs": [
    {
     "data": {
      "text/plain": [
       "{'1': 10332, '2': 0, '3': 0, '4': 0}"
      ]
     },
     "execution_count": 24,
     "metadata": {},
     "output_type": "execute_result"
    }
   ],
   "source": [
    "# replacing all outliers for numeric columns by mean for second_table\n",
    "\n",
    "for j in second_table.index:\n",
    "    for i in range(1,5):\n",
    "        if second_table.loc[j,str(i)]<second_table_limits[str(i)][0]:\n",
    "            second_table.loc[j,str(i)]=second_table[str(i)].mean()\n",
    "        if second_table.loc[j,str(i)]>second_table_limits[str(i)][1]:\n",
    "            second_table.loc[j,str(i)]=second_table[str(i)].mean()\n",
    "second_table_outliers"
   ]
  },
  {
   "cell_type": "code",
   "execution_count": 25,
   "id": "67fcac48",
   "metadata": {},
   "outputs": [],
   "source": [
    "# Removing all white spaces for first_table and second_table\n",
    "\n",
    "first_table.apply(lambda x:x.str.strip() if x.dtype == \"object\" else x)\n",
    "\n",
    "second_table.apply(lambda x:x.str.strip() if x.dtype == \"object\" else x)\n",
    "\n",
    "# case correction for first_table and second_table\n",
    "\n",
    "first_table.apply(lambda x:x.str.upper() if x.dtype == \"object\" else x)\n",
    "\n",
    "second_table.apply(lambda x:x.str.upper() if x.dtype == \"object\" else x)\n",
    "\n",
    "# Dropping duplicated rows for first_table and second_table\n",
    "\n",
    "first_table.drop_duplicates(inplace=True)\n",
    "\n",
    "second_table.drop_duplicates(inplace=True)"
   ]
  },
  {
   "cell_type": "code",
   "execution_count": 26,
   "id": "6a7f079f",
   "metadata": {},
   "outputs": [
    {
     "data": {
      "text/html": [
       "<div>\n",
       "<style scoped>\n",
       "    .dataframe tbody tr th:only-of-type {\n",
       "        vertical-align: middle;\n",
       "    }\n",
       "\n",
       "    .dataframe tbody tr th {\n",
       "        vertical-align: top;\n",
       "    }\n",
       "\n",
       "    .dataframe thead th {\n",
       "        text-align: right;\n",
       "    }\n",
       "</style>\n",
       "<table border=\"1\" class=\"dataframe\">\n",
       "  <thead>\n",
       "    <tr style=\"text-align: right;\">\n",
       "      <th></th>\n",
       "      <th>customer_id</th>\n",
       "      <th>Gender</th>\n",
       "      <th>age</th>\n",
       "      <th>driving licence present</th>\n",
       "      <th>region code</th>\n",
       "      <th>previously insured</th>\n",
       "      <th>vehicle age</th>\n",
       "      <th>vehicle damage</th>\n",
       "      <th>annual_premium_INR</th>\n",
       "      <th>sales_channel_code</th>\n",
       "      <th>vintage</th>\n",
       "      <th>response</th>\n",
       "    </tr>\n",
       "  </thead>\n",
       "  <tbody>\n",
       "    <tr>\n",
       "      <th>0</th>\n",
       "      <td>1.0</td>\n",
       "      <td>Male</td>\n",
       "      <td>44.0</td>\n",
       "      <td>1.0</td>\n",
       "      <td>28.0</td>\n",
       "      <td>0.0</td>\n",
       "      <td>&gt; 2 Years</td>\n",
       "      <td>Yes</td>\n",
       "      <td>40454.0</td>\n",
       "      <td>26.0</td>\n",
       "      <td>217.0</td>\n",
       "      <td>0.122526</td>\n",
       "    </tr>\n",
       "    <tr>\n",
       "      <th>1</th>\n",
       "      <td>2.0</td>\n",
       "      <td>Male</td>\n",
       "      <td>76.0</td>\n",
       "      <td>1.0</td>\n",
       "      <td>3.0</td>\n",
       "      <td>0.0</td>\n",
       "      <td>1-2 Year</td>\n",
       "      <td>No</td>\n",
       "      <td>33536.0</td>\n",
       "      <td>26.0</td>\n",
       "      <td>183.0</td>\n",
       "      <td>0.000000</td>\n",
       "    </tr>\n",
       "    <tr>\n",
       "      <th>2</th>\n",
       "      <td>3.0</td>\n",
       "      <td>Male</td>\n",
       "      <td>47.0</td>\n",
       "      <td>1.0</td>\n",
       "      <td>28.0</td>\n",
       "      <td>0.0</td>\n",
       "      <td>&gt; 2 Years</td>\n",
       "      <td>Yes</td>\n",
       "      <td>38294.0</td>\n",
       "      <td>26.0</td>\n",
       "      <td>27.0</td>\n",
       "      <td>0.122523</td>\n",
       "    </tr>\n",
       "    <tr>\n",
       "      <th>3</th>\n",
       "      <td>4.0</td>\n",
       "      <td>Male</td>\n",
       "      <td>21.0</td>\n",
       "      <td>1.0</td>\n",
       "      <td>11.0</td>\n",
       "      <td>1.0</td>\n",
       "      <td>&lt; 1 Year</td>\n",
       "      <td>No</td>\n",
       "      <td>28619.0</td>\n",
       "      <td>152.0</td>\n",
       "      <td>203.0</td>\n",
       "      <td>0.000000</td>\n",
       "    </tr>\n",
       "    <tr>\n",
       "      <th>4</th>\n",
       "      <td>5.0</td>\n",
       "      <td>Female</td>\n",
       "      <td>29.0</td>\n",
       "      <td>1.0</td>\n",
       "      <td>41.0</td>\n",
       "      <td>1.0</td>\n",
       "      <td>&lt; 1 Year</td>\n",
       "      <td>No</td>\n",
       "      <td>27496.0</td>\n",
       "      <td>152.0</td>\n",
       "      <td>39.0</td>\n",
       "      <td>0.000000</td>\n",
       "    </tr>\n",
       "    <tr>\n",
       "      <th>...</th>\n",
       "      <td>...</td>\n",
       "      <td>...</td>\n",
       "      <td>...</td>\n",
       "      <td>...</td>\n",
       "      <td>...</td>\n",
       "      <td>...</td>\n",
       "      <td>...</td>\n",
       "      <td>...</td>\n",
       "      <td>...</td>\n",
       "      <td>...</td>\n",
       "      <td>...</td>\n",
       "      <td>...</td>\n",
       "    </tr>\n",
       "    <tr>\n",
       "      <th>380331</th>\n",
       "      <td>381105.0</td>\n",
       "      <td>Male</td>\n",
       "      <td>74.0</td>\n",
       "      <td>1.0</td>\n",
       "      <td>26.0</td>\n",
       "      <td>1.0</td>\n",
       "      <td>1-2 Year</td>\n",
       "      <td>No</td>\n",
       "      <td>30170.0</td>\n",
       "      <td>26.0</td>\n",
       "      <td>88.0</td>\n",
       "      <td>0.000000</td>\n",
       "    </tr>\n",
       "    <tr>\n",
       "      <th>380332</th>\n",
       "      <td>381106.0</td>\n",
       "      <td>Male</td>\n",
       "      <td>30.0</td>\n",
       "      <td>1.0</td>\n",
       "      <td>37.0</td>\n",
       "      <td>1.0</td>\n",
       "      <td>&lt; 1 Year</td>\n",
       "      <td>No</td>\n",
       "      <td>40016.0</td>\n",
       "      <td>152.0</td>\n",
       "      <td>131.0</td>\n",
       "      <td>0.000000</td>\n",
       "    </tr>\n",
       "    <tr>\n",
       "      <th>380333</th>\n",
       "      <td>381107.0</td>\n",
       "      <td>Male</td>\n",
       "      <td>21.0</td>\n",
       "      <td>1.0</td>\n",
       "      <td>30.0</td>\n",
       "      <td>1.0</td>\n",
       "      <td>&lt; 1 Year</td>\n",
       "      <td>No</td>\n",
       "      <td>35118.0</td>\n",
       "      <td>160.0</td>\n",
       "      <td>161.0</td>\n",
       "      <td>0.000000</td>\n",
       "    </tr>\n",
       "    <tr>\n",
       "      <th>380334</th>\n",
       "      <td>381108.0</td>\n",
       "      <td>Female</td>\n",
       "      <td>68.0</td>\n",
       "      <td>1.0</td>\n",
       "      <td>14.0</td>\n",
       "      <td>0.0</td>\n",
       "      <td>&gt; 2 Years</td>\n",
       "      <td>Yes</td>\n",
       "      <td>44617.0</td>\n",
       "      <td>124.0</td>\n",
       "      <td>74.0</td>\n",
       "      <td>0.000000</td>\n",
       "    </tr>\n",
       "    <tr>\n",
       "      <th>380335</th>\n",
       "      <td>381109.0</td>\n",
       "      <td>Male</td>\n",
       "      <td>46.0</td>\n",
       "      <td>1.0</td>\n",
       "      <td>29.0</td>\n",
       "      <td>0.0</td>\n",
       "      <td>1-2 Year</td>\n",
       "      <td>No</td>\n",
       "      <td>41777.0</td>\n",
       "      <td>26.0</td>\n",
       "      <td>237.0</td>\n",
       "      <td>0.000000</td>\n",
       "    </tr>\n",
       "  </tbody>\n",
       "</table>\n",
       "<p>380336 rows × 12 columns</p>\n",
       "</div>"
      ],
      "text/plain": [
       "        customer_id  Gender   age  driving licence present  region code  \\\n",
       "0               1.0    Male  44.0                      1.0         28.0   \n",
       "1               2.0    Male  76.0                      1.0          3.0   \n",
       "2               3.0    Male  47.0                      1.0         28.0   \n",
       "3               4.0    Male  21.0                      1.0         11.0   \n",
       "4               5.0  Female  29.0                      1.0         41.0   \n",
       "...             ...     ...   ...                      ...          ...   \n",
       "380331     381105.0    Male  74.0                      1.0         26.0   \n",
       "380332     381106.0    Male  30.0                      1.0         37.0   \n",
       "380333     381107.0    Male  21.0                      1.0         30.0   \n",
       "380334     381108.0  Female  68.0                      1.0         14.0   \n",
       "380335     381109.0    Male  46.0                      1.0         29.0   \n",
       "\n",
       "        previously insured vehicle age vehicle damage  annual_premium_INR  \\\n",
       "0                      0.0   > 2 Years            Yes             40454.0   \n",
       "1                      0.0    1-2 Year             No             33536.0   \n",
       "2                      0.0   > 2 Years            Yes             38294.0   \n",
       "3                      1.0    < 1 Year             No             28619.0   \n",
       "4                      1.0    < 1 Year             No             27496.0   \n",
       "...                    ...         ...            ...                 ...   \n",
       "380331                 1.0    1-2 Year             No             30170.0   \n",
       "380332                 1.0    < 1 Year             No             40016.0   \n",
       "380333                 1.0    < 1 Year             No             35118.0   \n",
       "380334                 0.0   > 2 Years            Yes             44617.0   \n",
       "380335                 0.0    1-2 Year             No             41777.0   \n",
       "\n",
       "        sales_channel_code  vintage  response  \n",
       "0                     26.0    217.0  0.122526  \n",
       "1                     26.0    183.0  0.000000  \n",
       "2                     26.0     27.0  0.122523  \n",
       "3                    152.0    203.0  0.000000  \n",
       "4                    152.0     39.0  0.000000  \n",
       "...                    ...      ...       ...  \n",
       "380331                26.0     88.0  0.000000  \n",
       "380332               152.0    131.0  0.000000  \n",
       "380333               160.0    161.0  0.000000  \n",
       "380334               124.0     74.0  0.000000  \n",
       "380335                26.0    237.0  0.000000  \n",
       "\n",
       "[380336 rows x 12 columns]"
      ]
     },
     "execution_count": 26,
     "metadata": {},
     "output_type": "execute_result"
    }
   ],
   "source": [
    "# Creating a master table\n",
    "\n",
    "Master = pd.merge(first_table,second_table,on='0')\n",
    "labels={'0':'customer_id','1_x':'Gender','2_x':'age','3_x':'driving licence present','4_x':'region code','5':'previously insured',\n",
    "       '6':'vehicle age','7':'vehicle damage','1_y':'annual_premium_INR','2_y':'sales_channel_code','3_y':'vintage','4_y':'response'}\n",
    "Master.rename(columns=labels,inplace=True)\n",
    "Master"
   ]
  },
  {
   "cell_type": "code",
   "execution_count": 27,
   "id": "58e6277f",
   "metadata": {},
   "outputs": [
    {
     "data": {
      "text/plain": [
       "Gender\n",
       "Female    29256.646108\n",
       "Male      29305.360310\n",
       "Name: annual_premium_INR, dtype: float64"
      ]
     },
     "execution_count": 27,
     "metadata": {},
     "output_type": "execute_result"
    }
   ],
   "source": [
    "# gender wise average annual_premium\n",
    "\n",
    "result1 = Master.groupby('Gender')['annual_premium_INR'].mean()\n",
    "result1"
   ]
  },
  {
   "cell_type": "code",
   "execution_count": 28,
   "id": "e15c6d68",
   "metadata": {},
   "outputs": [
    {
     "data": {
      "text/plain": [
       "age\n",
       "20.0    26333.769642\n",
       "21.0    29740.291634\n",
       "22.0    29935.061500\n",
       "23.0    29826.865159\n",
       "24.0    30111.574448\n",
       "            ...     \n",
       "81.0    29250.430257\n",
       "82.0    36468.997951\n",
       "83.0    28945.323772\n",
       "84.0    35440.818182\n",
       "85.0    26574.328252\n",
       "Name: annual_premium_INR, Length: 67, dtype: float64"
      ]
     },
     "execution_count": 28,
     "metadata": {},
     "output_type": "execute_result"
    }
   ],
   "source": [
    "# age wise average annual_premium\n",
    "\n",
    "result2 = Master.groupby('age')['annual_premium_INR'].mean()\n",
    "result2"
   ]
  },
  {
   "cell_type": "code",
   "execution_count": 34,
   "id": "ec4b1318",
   "metadata": {},
   "outputs": [
    {
     "name": "stdout",
     "output_type": "stream",
     "text": [
      "male to female ratio is 1.18\n",
      "genrally the standard ratio is 1.0 and slightly balanced ratio to 1 _ 1.5 but the imbalanced ratio is 2.0 _ 9.0\n"
     ]
    }
   ],
   "source": [
    "# Checking data balanced between genders\n",
    "\n",
    "print(f\"male to female ratio is {round(Master['Gender'].value_counts()[0] / Master['Gender'].value_counts()[1],2)}\")\n",
    "print(f\"genrally the standard ratio is {50/50} and slightly balanced ratio to {round(55/45.2)} _ {60/40} but the imbalanced ratio is {80/40} _ {90/10}\")"
   ]
  },
  {
   "cell_type": "code",
   "execution_count": 35,
   "id": "4ea513ab",
   "metadata": {},
   "outputs": [
    {
     "data": {
      "text/plain": [
       "vehicle age\n",
       "1-2 Year     29079.463376\n",
       "< 1 Year     29175.762528\n",
       "> 2 Years    32904.973757\n",
       "Name: annual_premium_INR, dtype: float64"
      ]
     },
     "execution_count": 35,
     "metadata": {},
     "output_type": "execute_result"
    }
   ],
   "source": [
    "# Vehicle age wise average annual_premium\n",
    "\n",
    "result3 = Master.groupby('vehicle age')['annual_premium_INR'].mean()\n",
    "result3"
   ]
  },
  {
   "cell_type": "code",
   "execution_count": 36,
   "id": "4c9afb6b",
   "metadata": {},
   "outputs": [
    {
     "name": "stdout",
     "output_type": "stream",
     "text": [
      "There is no relationship!\n"
     ]
    }
   ],
   "source": [
    "# Checking relation between person age and annual_premium\n",
    "\n",
    "n = Master['age'].corr(Master['annual_premium_INR'])\n",
    "if n < -0.5:\n",
    "    print(\"Strong negative relationship\")\n",
    "if n > 0.5:\n",
    "    print(\"Strong positivr relationship\")\n",
    "if n > -0.5 and n < 0.5:\n",
    "    print(\"There is no relationship!\")"
   ]
  },
  {
   "cell_type": "code",
   "execution_count": null,
   "id": "fcf1c308",
   "metadata": {},
   "outputs": [],
   "source": []
  }
 ],
 "metadata": {
  "kernelspec": {
   "display_name": "Python 3 (ipykernel)",
   "language": "python",
   "name": "python3"
  },
  "language_info": {
   "codemirror_mode": {
    "name": "ipython",
    "version": 3
   },
   "file_extension": ".py",
   "mimetype": "text/x-python",
   "name": "python",
   "nbconvert_exporter": "python",
   "pygments_lexer": "ipython3",
   "version": "3.9.7"
  }
 },
 "nbformat": 4,
 "nbformat_minor": 5
}
